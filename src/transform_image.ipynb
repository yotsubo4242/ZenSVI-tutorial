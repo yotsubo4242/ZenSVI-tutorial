{
 "cells": [
  {
   "cell_type": "code",
   "execution_count": 1,
   "id": "7711cf2b",
   "metadata": {},
   "outputs": [
    {
     "name": "stdout",
     "output_type": "stream",
     "text": [
      "1.2.4\n"
     ]
    }
   ],
   "source": [
    "import zensvi\n",
    "\n",
    "print(zensvi.__version__)"
   ]
  },
  {
   "cell_type": "code",
   "execution_count": 2,
   "id": "1b67e3b7",
   "metadata": {},
   "outputs": [
    {
     "name": "stdout",
     "output_type": "stream",
     "text": [
      "Jupyter environment detected. Enabling Open3D WebVisualizer.\n",
      "[Open3D INFO] WebRTC GUI backend enabled.\n",
      "[Open3D INFO] WebRTCWindowSystem: HTTP handshake server disabled.\n"
     ]
    }
   ],
   "source": [
    "from zensvi.transform import ImageTransformer\n",
    "from zensvi.transform import PointCloudProcessor\n",
    "import pandas as pd\n",
    "import os"
   ]
  },
  {
   "cell_type": "markdown",
   "id": "2434ab1d",
   "metadata": {},
   "source": [
    "## パノラマ画像変換"
   ]
  },
  {
   "cell_type": "code",
   "execution_count": 3,
   "id": "94b714d7",
   "metadata": {},
   "outputs": [
    {
     "name": "stderr",
     "output_type": "stream",
     "text": [
      "Converting to perspective: 100%|██████████| 277/277 [00:36<00:00,  7.68it/s]\n",
      "Converting to equidistant_fisheye: 100%|██████████| 277/277 [00:00<00:00, 449.63it/s]\n",
      "/home/otsubo/ZenSVI-tutorial/.venv/lib/python3.12/site-packages/zensvi/transform/transform_image.py:241: RuntimeWarning: invalid value encountered in arcsin\n",
      "  yp = np.floor((2 / np.pi) * np.arcsin(r / R) * rows).astype(int)\n",
      "/home/otsubo/ZenSVI-tutorial/.venv/lib/python3.12/site-packages/zensvi/transform/transform_image.py:241: RuntimeWarning: invalid value encountered in cast\n",
      "  yp = np.floor((2 / np.pi) * np.arcsin(r / R) * rows).astype(int)\n",
      "Converting to orthographic_fisheye: 100%|██████████| 277/277 [00:00<00:00, 408.85it/s]\n",
      "Converting to stereographic_fisheye: 100%|██████████| 277/277 [00:00<00:00, 440.27it/s]\n",
      "Converting to equisolid_fisheye: 100%|██████████| 277/277 [00:00<00:00, 417.25it/s]\n"
     ]
    }
   ],
   "source": [
    "dir_input = \"../download/sinjuku/mly_svi/batch_1\" # directory containing the images to be transformed\n",
    "dir_output = \"../transformed/sinjuku\" # directory to save the transformed images\n",
    "\n",
    "# Start transforming images\n",
    "# Set the parameters for the transformation, field of view (FOV), angle of view (theta), angle of view (phi), aspect ratio, size of the image to show (show_size), use_upper_half\n",
    "image_transformer = ImageTransformer(dir_input=dir_input, dir_output=dir_output)\n",
    "image_transformer.transform_images(\n",
    "    style_list=\"perspective equidistant_fisheye orthographic_fisheye stereographic_fisheye equisolid_fisheye\",  # list of projection styles in the form of a string separated by a space\n",
    "    FOV=90,  # field of view\n",
    "    theta=120,  # angle of view (horizontal)\n",
    "    phi=0,  # angle of view (vertical)\n",
    "    aspects=(9, 16),  # aspect ratio\n",
    "    show_size=100, # size of the image to show (i.e. scale factor)\n",
    "    use_upper_half=False, # if True, only the upper half of the image is used for transformation. Use this for fisheye images to estimate sky view.\n",
    ") "
   ]
  }
 ],
 "metadata": {
  "kernelspec": {
   "display_name": ".venv",
   "language": "python",
   "name": "python3"
  },
  "language_info": {
   "codemirror_mode": {
    "name": "ipython",
    "version": 3
   },
   "file_extension": ".py",
   "mimetype": "text/x-python",
   "name": "python",
   "nbconvert_exporter": "python",
   "pygments_lexer": "ipython3",
   "version": "3.12.3"
  }
 },
 "nbformat": 4,
 "nbformat_minor": 5
}
