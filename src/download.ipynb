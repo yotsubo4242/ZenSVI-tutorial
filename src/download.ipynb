{
 "cells": [
  {
   "cell_type": "code",
   "execution_count": 36,
   "id": "246704a5",
   "metadata": {},
   "outputs": [
    {
     "name": "stdout",
     "output_type": "stream",
     "text": [
      "1.2.4\n"
     ]
    }
   ],
   "source": [
    "import zensvi\n",
    "\n",
    "print(zensvi.__version__)"
   ]
  },
  {
   "cell_type": "code",
   "execution_count": 43,
   "id": "5bdccacf",
   "metadata": {},
   "outputs": [],
   "source": [
    "from zensvi.download import MLYDownloader\n",
    "import os\n",
    "from dotenv import load_dotenv\n",
    "\n",
    "# .env ファイルの読み込み\n",
    "load_dotenv()\n",
    "\n",
    "# Mapillary API key の設定\n",
    "mly_api_key = os.getenv(\"MAPILLARY_API_KEY\")\n",
    "if mly_api_key is None:\n",
    "    raise ValueError(\"Please set the MAPILLARY_API_KEY environment variable.\")\n",
    "downloader = MLYDownloader(mly_api_key=mly_api_key)\n",
    "\n",
    "# output ディレクトリの設定\n",
    "output_dir = \"../download/sinjuku\"\n",
    "if not os.path.exists(output_dir):\n",
    "    os.makedirs(output_dir)"
   ]
  },
  {
   "cell_type": "markdown",
   "id": "37abd1b8",
   "metadata": {},
   "source": [
    "## 緯度・経度などを直書きする方法"
   ]
  },
  {
   "cell_type": "code",
   "execution_count": null,
   "id": "ac6a15e4",
   "metadata": {},
   "outputs": [
    {
     "name": "stdout",
     "output_type": "stream",
     "text": [
      "Getting pids...\n",
      "[Vector Tiles API] Fetching 1 tile for images ...\n"
     ]
    },
    {
     "name": "stderr",
     "output_type": "stream",
     "text": [
      "Processing tiles: 100%|██████████| 1/1 [00:06<00:00,  6.06s/it]\n",
      "Filtering data: 100%|██████████| 93235/93235 [00:06<00:00, 14484.06it/s]\n"
     ]
    },
    {
     "name": "stdout",
     "output_type": "stream",
     "text": [
      "The panorama IDs have been saved to ../download/sinjuku/mly_pids.csv\n"
     ]
    },
    {
     "name": "stderr",
     "output_type": "stream",
     "text": [
      "Getting urls by batch size 1000: 100%|██████████| 2/2 [00:17<00:00,  8.66s/it]\n",
      "Downloading images by batch size 1000: 100%|██████████| 2/2 [00:39<00:00, 19.83s/it]"
     ]
    },
    {
     "name": "stdout",
     "output_type": "stream",
     "text": [
      "The cache directory has been deleted\n"
     ]
    },
    {
     "name": "stderr",
     "output_type": "stream",
     "text": [
      "\n"
     ]
    }
   ],
   "source": [
    "# 緯度・経度の設定\n",
    "lat = 35.6895014\n",
    "lon = 139.6917337\n",
    "\n",
    "# 設定した場所の周囲 buffer メートルの範囲の画像取得\n",
    "buffer = 50\n",
    "\n",
    "# 画像のダウンロード\n",
    "downloader.download_svi(output_dir, lat=lat, lon=lon, buffer=buffer, update_pids=True, use_cache=False)"
   ]
  },
  {
   "cell_type": "markdown",
   "id": "7334182a",
   "metadata": {},
   "source": [
    "## 地名での指定"
   ]
  },
  {
   "cell_type": "code",
   "execution_count": 34,
   "id": "ec6b0826",
   "metadata": {},
   "outputs": [
    {
     "name": "stdout",
     "output_type": "stream",
     "text": [
      "Getting pids...\n",
      "update_pids is set to False. So the following csv file will be used: ../download/svi/mly_pids.csv\n",
      "The panorama URLs have been read from the cache\n"
     ]
    },
    {
     "name": "stderr",
     "output_type": "stream",
     "text": [
      "Downloading images by batch size 10: 100%|██████████| 1/1 [00:00<00:00, 582.06it/s]"
     ]
    },
    {
     "name": "stdout",
     "output_type": "stream",
     "text": [
      "The cache directory has been deleted\n"
     ]
    },
    {
     "name": "stderr",
     "output_type": "stream",
     "text": [
      "\n"
     ]
    }
   ],
   "source": [
    "# Input the Place Name, for example \"NUS, Singapore\"\n",
    "input_place_name=\"Chinatown, Singapore\"\n",
    "\n",
    "# Setting downloading buffer size in meters around the input location\n",
    "buffer = 10\n",
    "\n",
    "# Start downloading\n",
    "downloader.download_svi(output_dir, input_place_name=input_place_name)"
   ]
  }
 ],
 "metadata": {
  "kernelspec": {
   "display_name": ".venv",
   "language": "python",
   "name": "python3"
  },
  "language_info": {
   "codemirror_mode": {
    "name": "ipython",
    "version": 3
   },
   "file_extension": ".py",
   "mimetype": "text/x-python",
   "name": "python",
   "nbconvert_exporter": "python",
   "pygments_lexer": "ipython3",
   "version": "3.12.3"
  }
 },
 "nbformat": 4,
 "nbformat_minor": 5
}
